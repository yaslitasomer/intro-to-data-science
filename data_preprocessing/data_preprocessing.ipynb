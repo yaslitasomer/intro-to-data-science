{
 "cells": [
  {
   "cell_type": "markdown",
   "id": "bcf8fb6a",
   "metadata": {},
   "source": [
    "# Outlier Analysis\n",
    "## Outlier Detection"
   ]
  },
  {
   "cell_type": "code",
   "execution_count": null,
   "id": "67587f09",
   "metadata": {},
   "outputs": [],
   "source": [
    "import seaborn as sns\n",
    "df = sns.load_dataset(\"diamonds\", cache = False)\n",
    "df = df.select_dtypes(include = [\"float64\", \"int64\"])\n",
    "df = df.dropna()\n",
    "df.head()"
   ]
  },
  {
   "cell_type": "code",
   "execution_count": null,
   "id": "34e91506",
   "metadata": {},
   "outputs": [],
   "source": [
    "df_table = df[\"table\"]"
   ]
  },
  {
   "cell_type": "code",
   "execution_count": null,
   "id": "cdaf3bd9",
   "metadata": {},
   "outputs": [],
   "source": [
    "df_table.head()"
   ]
  },
  {
   "cell_type": "code",
   "execution_count": null,
   "id": "6bdc15aa",
   "metadata": {},
   "outputs": [],
   "source": [
    "sns.boxplot(x = df_table);"
   ]
  },
  {
   "cell_type": "code",
   "execution_count": null,
   "id": "234f60ac",
   "metadata": {},
   "outputs": [],
   "source": [
    "Q1 = df_table.quantile(0.25)"
   ]
  },
  {
   "cell_type": "code",
   "execution_count": null,
   "id": "fa24a380",
   "metadata": {},
   "outputs": [],
   "source": [
    "Q3 = df_table.quantile(0.75)"
   ]
  },
  {
   "cell_type": "code",
   "execution_count": null,
   "id": "51dd5628",
   "metadata": {},
   "outputs": [],
   "source": [
    "IQR = Q3 - Q1"
   ]
  },
  {
   "cell_type": "code",
   "execution_count": null,
   "id": "be701c15",
   "metadata": {},
   "outputs": [],
   "source": [
    "lower_bound = Q1 - 1.5 * IQR\n",
    "upper_bound = Q3 + 1.5 * IQR"
   ]
  },
  {
   "cell_type": "code",
   "execution_count": null,
   "id": "1f9fd1fd",
   "metadata": {},
   "outputs": [],
   "source": [
    "lower_bound"
   ]
  },
  {
   "cell_type": "code",
   "execution_count": null,
   "id": "1dd2650d",
   "metadata": {},
   "outputs": [],
   "source": [
    "upper_bound"
   ]
  },
  {
   "cell_type": "code",
   "execution_count": null,
   "id": "b60dd61d",
   "metadata": {},
   "outputs": [],
   "source": [
    "outlier = (df_table < lower_bound) | (df_table > upper_bound)"
   ]
  },
  {
   "cell_type": "code",
   "execution_count": null,
   "id": "57c632e6",
   "metadata": {},
   "outputs": [],
   "source": [
    "df_table[outlier]"
   ]
  },
  {
   "cell_type": "code",
   "execution_count": null,
   "id": "dd0b76cf",
   "metadata": {},
   "outputs": [],
   "source": [
    "df_table[outlier].index"
   ]
  },
  {
   "cell_type": "markdown",
   "id": "11fad1a7",
   "metadata": {},
   "source": [
    "### Deletion"
   ]
  },
  {
   "cell_type": "code",
   "execution_count": null,
   "id": "5a2b1267",
   "metadata": {},
   "outputs": [],
   "source": [
    "import pandas as pd"
   ]
  },
  {
   "cell_type": "code",
   "execution_count": null,
   "id": "f244b983",
   "metadata": {},
   "outputs": [],
   "source": [
    "type(df_table)"
   ]
  },
  {
   "cell_type": "code",
   "execution_count": null,
   "id": "08ef7e71",
   "metadata": {},
   "outputs": [],
   "source": [
    "df_table = pd.DataFrame(df_table)"
   ]
  },
  {
   "cell_type": "code",
   "execution_count": null,
   "id": "5353c96a",
   "metadata": {},
   "outputs": [],
   "source": [
    "df_table.shape"
   ]
  },
  {
   "cell_type": "code",
   "execution_count": null,
   "id": "44ec60dc",
   "metadata": {},
   "outputs": [],
   "source": [
    "new_df = df_table[~((df_table < lower_bound) | (df_table > upper_bound)).any(axis = 1)]\n",
    "new_df"
   ]
  },
  {
   "cell_type": "code",
   "execution_count": null,
   "id": "43283e95",
   "metadata": {},
   "outputs": [],
   "source": [
    "new_df.shape"
   ]
  },
  {
   "cell_type": "markdown",
   "id": "119601ad",
   "metadata": {},
   "source": [
    "### Filling with Mean"
   ]
  },
  {
   "cell_type": "code",
   "execution_count": null,
   "id": "d7ca3794",
   "metadata": {},
   "outputs": [],
   "source": [
    "df = sns.load_dataset(\"diamonds\", cache = False)\n",
    "df = df.select_dtypes(include = [\"float64\", \"int64\"])\n",
    "df = df.dropna()\n",
    "df.head()"
   ]
  },
  {
   "cell_type": "code",
   "execution_count": null,
   "id": "6a0c887c",
   "metadata": {},
   "outputs": [],
   "source": [
    "df_table = df[\"table\"]\n",
    "df_table.head()"
   ]
  },
  {
   "cell_type": "code",
   "execution_count": null,
   "id": "43bdc211",
   "metadata": {},
   "outputs": [],
   "source": [
    "df_table.mean()"
   ]
  },
  {
   "cell_type": "code",
   "execution_count": null,
   "id": "0a047b3f",
   "metadata": {},
   "outputs": [],
   "source": [
    "df_table[outlier] = df_table.mean()"
   ]
  },
  {
   "cell_type": "code",
   "execution_count": null,
   "id": "411109a2",
   "metadata": {},
   "outputs": [],
   "source": [
    "df_table[outlier]"
   ]
  },
  {
   "cell_type": "markdown",
   "id": "bdb80c79",
   "metadata": {},
   "source": [
    "### Suppression"
   ]
  },
  {
   "cell_type": "code",
   "execution_count": null,
   "id": "1ad81848",
   "metadata": {},
   "outputs": [],
   "source": [
    "df = sns.load_dataset(\"diamonds\", cache = False)\n",
    "df = df.select_dtypes(include = [\"float64\", \"int64\"])\n",
    "df = df.dropna()\n",
    "df.head()"
   ]
  },
  {
   "cell_type": "code",
   "execution_count": null,
   "id": "6bfdb7c3",
   "metadata": {},
   "outputs": [],
   "source": [
    "df_table = df[\"table\"]\n",
    "df_table.head()"
   ]
  },
  {
   "cell_type": "code",
   "execution_count": null,
   "id": "97065f55",
   "metadata": {},
   "outputs": [],
   "source": [
    "outlier_low = (df_table < lower_bound)\n",
    "outlier_up = (df_table > upper_bound)\n",
    "df_table[outlier_low] = lower_bound\n",
    "df_table[outlier_up] = upper_bound"
   ]
  },
  {
   "cell_type": "code",
   "execution_count": null,
   "id": "540a4498",
   "metadata": {},
   "outputs": [],
   "source": [
    "df_table[outlier_low]"
   ]
  },
  {
   "cell_type": "code",
   "execution_count": null,
   "id": "e5730e90",
   "metadata": {
    "scrolled": true
   },
   "outputs": [],
   "source": [
    "df_table[outlier_up]"
   ]
  },
  {
   "cell_type": "markdown",
   "id": "801eaa93",
   "metadata": {},
   "source": [
    "# Multivariate Outlier Analysis"
   ]
  },
  {
   "cell_type": "markdown",
   "id": "f92ba67a",
   "metadata": {},
   "source": [
    "## Local Outlier Factor"
   ]
  },
  {
   "cell_type": "markdown",
   "id": "baee3298",
   "metadata": {},
   "source": [
    "Observations enable us to identify potential outliers by scoring based on density at their respective locations.\n",
    "\n",
    "The local density of a point is compared with its neighbors. If a point has significantly lower density than its neighbors, it is interpreted as being in a sparser region than its neighbors. Thus, a neighborhood structure is present here. If the surroundings of a value are not dense, it is considered an outlier.\n"
   ]
  },
  {
   "cell_type": "code",
   "execution_count": null,
   "id": "650dd469",
   "metadata": {},
   "outputs": [],
   "source": [
    "import seaborn as sns\n",
    "diamonds = sns.load_dataset('diamonds')\n",
    "diamonds = diamonds.select_dtypes(include = ['float64', 'int64']) \n",
    "df = diamonds.copy()\n",
    "df = df.dropna()\n",
    "df.head()"
   ]
  },
  {
   "cell_type": "code",
   "execution_count": null,
   "id": "117a94e5",
   "metadata": {},
   "outputs": [],
   "source": [
    "import numpy as np\n",
    "from sklearn.neighbors import LocalOutlierFactor"
   ]
  },
  {
   "cell_type": "code",
   "execution_count": null,
   "id": "101c789a",
   "metadata": {},
   "outputs": [],
   "source": [
    "clf = LocalOutlierFactor(n_neighbors = 20, contamination = 0.1)"
   ]
  },
  {
   "cell_type": "code",
   "execution_count": null,
   "id": "892d545c",
   "metadata": {},
   "outputs": [],
   "source": [
    "clf.fit_predict(df)"
   ]
  },
  {
   "cell_type": "code",
   "execution_count": null,
   "id": "2d1e9bed",
   "metadata": {},
   "outputs": [],
   "source": [
    "df_scores = clf.negative_outlier_factor_"
   ]
  },
  {
   "cell_type": "code",
   "execution_count": null,
   "id": "cb09ea16",
   "metadata": {},
   "outputs": [],
   "source": [
    "df_scores[:10]"
   ]
  },
  {
   "cell_type": "code",
   "execution_count": null,
   "id": "32fbe0fb",
   "metadata": {},
   "outputs": [],
   "source": [
    "np.sort(df_scores)[:20]"
   ]
  },
  {
   "cell_type": "code",
   "execution_count": null,
   "id": "660bb3de",
   "metadata": {},
   "outputs": [],
   "source": [
    "np.sort(df_scores)[-20:]"
   ]
  },
  {
   "cell_type": "code",
   "execution_count": null,
   "id": "56892da4",
   "metadata": {},
   "outputs": [],
   "source": [
    "threshold = np.sort(df_scores)[13]\n",
    "threshold"
   ]
  },
  {
   "cell_type": "code",
   "execution_count": null,
   "id": "d06b0ae1",
   "metadata": {},
   "outputs": [],
   "source": [
    "outlier_tf = df_scores < threshold\n",
    "outlier_tf"
   ]
  },
  {
   "cell_type": "code",
   "execution_count": null,
   "id": "ee1b706e",
   "metadata": {},
   "outputs": [],
   "source": [
    "new_df = df[outlier_tf]\n",
    "new_df"
   ]
  },
  {
   "cell_type": "code",
   "execution_count": null,
   "id": "87b2dadd",
   "metadata": {},
   "outputs": [],
   "source": [
    "new_df = df[~outlier_tf]\n",
    "new_df"
   ]
  },
  {
   "cell_type": "code",
   "execution_count": null,
   "id": "4d271744",
   "metadata": {},
   "outputs": [],
   "source": [
    "df[df_scores == threshold]"
   ]
  },
  {
   "cell_type": "markdown",
   "id": "422a4450",
   "metadata": {},
   "source": [
    "#### Suppressor method"
   ]
  },
  {
   "cell_type": "code",
   "execution_count": null,
   "id": "1d15ba96",
   "metadata": {},
   "outputs": [],
   "source": [
    "suppressor_value = df[df_scores == threshold]"
   ]
  },
  {
   "cell_type": "code",
   "execution_count": null,
   "id": "13f6da4b",
   "metadata": {},
   "outputs": [],
   "source": [
    "outliers = df[outlier_tf]"
   ]
  },
  {
   "cell_type": "code",
   "execution_count": null,
   "id": "25421882",
   "metadata": {},
   "outputs": [],
   "source": [
    "outliers"
   ]
  },
  {
   "cell_type": "code",
   "execution_count": null,
   "id": "c1769a39",
   "metadata": {},
   "outputs": [],
   "source": [
    "res = outliers.to_records(index = False)\n",
    "res"
   ]
  },
  {
   "cell_type": "code",
   "execution_count": null,
   "id": "4d14210c",
   "metadata": {},
   "outputs": [],
   "source": [
    "res[:] = suppressor_value.to_records(index = False)\n",
    "res"
   ]
  },
  {
   "cell_type": "code",
   "execution_count": null,
   "id": "ff54f159",
   "metadata": {},
   "outputs": [],
   "source": [
    "import pandas as pd\n",
    "df[outlier_tf] = pd.DataFrame(res, index = df[outlier_tf].index)"
   ]
  },
  {
   "cell_type": "code",
   "execution_count": null,
   "id": "e77ec962",
   "metadata": {},
   "outputs": [],
   "source": [
    "df[outlier_tf]"
   ]
  },
  {
   "cell_type": "markdown",
   "id": "a22b7ddc",
   "metadata": {},
   "source": [
    "# Missing Data Analysis"
   ]
  },
  {
   "cell_type": "markdown",
   "id": "6f7f4107",
   "metadata": {},
   "source": [
    "## Fast Solution"
   ]
  },
  {
   "cell_type": "code",
   "execution_count": null,
   "id": "a7672f83",
   "metadata": {},
   "outputs": [],
   "source": [
    "import numpy as np\n",
    "import pandas as pd\n",
    "V1 = np.array([1,3,6,np.NaN,7,1,np.NaN,9,15])\n",
    "V2 = np.array([7,np.NaN,5,8,12,np.NaN,np.NaN,2,3])\n",
    "V3 = np.array([np.NaN,12,5,6,14,7,np.NaN,2,31])\n",
    "df = pd.DataFrame(\n",
    "        {\"V1\" : V1,\n",
    "         \"V2\" : V2,\n",
    "         \"V3\" : V3}        \n",
    ")\n",
    "\n",
    "df"
   ]
  },
  {
   "cell_type": "code",
   "execution_count": null,
   "id": "bd00f1db",
   "metadata": {},
   "outputs": [],
   "source": [
    "df.isnull().sum()"
   ]
  },
  {
   "cell_type": "code",
   "execution_count": null,
   "id": "4760b682",
   "metadata": {},
   "outputs": [],
   "source": [
    "df.notnull().sum()"
   ]
  },
  {
   "cell_type": "code",
   "execution_count": null,
   "id": "df850ec8",
   "metadata": {},
   "outputs": [],
   "source": [
    "df.isnull().sum().sum()"
   ]
  },
  {
   "cell_type": "code",
   "execution_count": null,
   "id": "2bf19219",
   "metadata": {},
   "outputs": [],
   "source": [
    "df.isnull()"
   ]
  },
  {
   "cell_type": "code",
   "execution_count": null,
   "id": "cd5e6b12",
   "metadata": {},
   "outputs": [],
   "source": [
    "df[df.isnull().any(axis = 1)]"
   ]
  },
  {
   "cell_type": "code",
   "execution_count": null,
   "id": "cb7ddb06",
   "metadata": {},
   "outputs": [],
   "source": [
    "df[df.notnull().all(axis = 1)]"
   ]
  },
  {
   "cell_type": "code",
   "execution_count": null,
   "id": "a5362d10",
   "metadata": {},
   "outputs": [],
   "source": [
    "df[df[\"V1\"].notnull() & df[\"V2\"].notnull() & df[\"V3\"].notnull()]"
   ]
  },
  {
   "cell_type": "code",
   "execution_count": null,
   "id": "225ba1ea",
   "metadata": {},
   "outputs": [],
   "source": [
    "df[df[\"V1\"].isnull() | df[\"V2\"].isnull() | df[\"V3\"].isnull()]"
   ]
  },
  {
   "cell_type": "code",
   "execution_count": null,
   "id": "c5197dc1",
   "metadata": {},
   "outputs": [],
   "source": [
    "#Deletion\n",
    "df.dropna()"
   ]
  },
  {
   "cell_type": "code",
   "execution_count": null,
   "id": "fb5f6ac0",
   "metadata": {},
   "outputs": [],
   "source": [
    "#Simple Imputation"
   ]
  },
  {
   "cell_type": "code",
   "execution_count": null,
   "id": "b6e062e3",
   "metadata": {},
   "outputs": [],
   "source": [
    "df[\"V1\"]"
   ]
  },
  {
   "cell_type": "code",
   "execution_count": null,
   "id": "2bbb9a54",
   "metadata": {},
   "outputs": [],
   "source": [
    "df[\"V1\"].mean()"
   ]
  },
  {
   "cell_type": "code",
   "execution_count": null,
   "id": "829f8455",
   "metadata": {},
   "outputs": [],
   "source": [
    "df[\"V1\"].fillna(df[\"V1\"].mean())"
   ]
  },
  {
   "cell_type": "code",
   "execution_count": null,
   "id": "63048cf6",
   "metadata": {},
   "outputs": [],
   "source": [
    "df[\"V2\"]"
   ]
  },
  {
   "cell_type": "code",
   "execution_count": null,
   "id": "d381a5e3",
   "metadata": {},
   "outputs": [],
   "source": [
    "df[\"V2\"].fillna(0)"
   ]
  },
  {
   "cell_type": "code",
   "execution_count": null,
   "id": "27407886",
   "metadata": {},
   "outputs": [],
   "source": [
    "df"
   ]
  },
  {
   "cell_type": "code",
   "execution_count": null,
   "id": "0d30653e",
   "metadata": {},
   "outputs": [],
   "source": [
    "df.apply(lambda x: x.fillna(x.mean()), axis = 0)"
   ]
  },
  {
   "cell_type": "markdown",
   "id": "9884e513",
   "metadata": {},
   "source": [
    "## Missing Value Visualization"
   ]
  },
  {
   "cell_type": "code",
   "execution_count": null,
   "id": "0cc1f979",
   "metadata": {},
   "outputs": [],
   "source": [
    "!pip install missingno"
   ]
  },
  {
   "cell_type": "code",
   "execution_count": null,
   "id": "f8cc9e78",
   "metadata": {},
   "outputs": [],
   "source": [
    "import missingno as msno"
   ]
  },
  {
   "cell_type": "code",
   "execution_count": null,
   "id": "17ab2f6f",
   "metadata": {},
   "outputs": [],
   "source": [
    "msno.bar(df);"
   ]
  },
  {
   "cell_type": "code",
   "execution_count": null,
   "id": "2b584d8f",
   "metadata": {},
   "outputs": [],
   "source": [
    "msno.matrix(df);"
   ]
  },
  {
   "cell_type": "code",
   "execution_count": null,
   "id": "1b11d029",
   "metadata": {},
   "outputs": [],
   "source": [
    "df = sns.load_dataset(\"planets\", cache = False)\n",
    "df.head()"
   ]
  },
  {
   "cell_type": "code",
   "execution_count": null,
   "id": "c664ee01",
   "metadata": {},
   "outputs": [],
   "source": [
    "msno.matrix(df);"
   ]
  },
  {
   "cell_type": "code",
   "execution_count": null,
   "id": "9cb1f029",
   "metadata": {},
   "outputs": [],
   "source": [
    "msno.heatmap(df);"
   ]
  },
  {
   "cell_type": "markdown",
   "id": "c95992d8",
   "metadata": {},
   "source": [
    "## Deletion Methods"
   ]
  },
  {
   "cell_type": "code",
   "execution_count": null,
   "id": "3eb6ed90",
   "metadata": {},
   "outputs": [],
   "source": [
    "import numpy as np\n",
    "import pandas as pd\n",
    "V1 = np.array([1,3,6,np.NaN,7,1,np.NaN,9,15])\n",
    "V2 = np.array([7,np.NaN,5,8,12,np.NaN,np.NaN,2,3])\n",
    "V3 = np.array([np.NaN,12,5,6,14,7,np.NaN,2,31])\n",
    "\n",
    "df = pd.DataFrame(\n",
    "        {\"V1\" : V1,\n",
    "         \"V2\" : V2,\n",
    "         \"V3\" : V3}        \n",
    ")\n",
    "\n",
    "df"
   ]
  },
  {
   "cell_type": "code",
   "execution_count": null,
   "id": "79eeff1c",
   "metadata": {},
   "outputs": [],
   "source": [
    "df.dropna()"
   ]
  },
  {
   "cell_type": "code",
   "execution_count": null,
   "id": "2021c104",
   "metadata": {},
   "outputs": [],
   "source": [
    "df.dropna(how = \"all\")"
   ]
  },
  {
   "cell_type": "code",
   "execution_count": null,
   "id": "b67a3965",
   "metadata": {},
   "outputs": [],
   "source": [
    "df.dropna(axis = 1)"
   ]
  },
  {
   "cell_type": "markdown",
   "id": "37e7de56",
   "metadata": {},
   "source": [
    "## Imputation"
   ]
  },
  {
   "cell_type": "markdown",
   "id": "9ad8a251",
   "metadata": {},
   "source": [
    "### Numeric"
   ]
  },
  {
   "cell_type": "code",
   "execution_count": null,
   "id": "55bb9da1",
   "metadata": {},
   "outputs": [],
   "source": [
    "df"
   ]
  },
  {
   "cell_type": "code",
   "execution_count": null,
   "id": "1e5638f1",
   "metadata": {},
   "outputs": [],
   "source": [
    "df.apply(lambda x: x.fillna(x.mean()), axis = 0)"
   ]
  },
  {
   "cell_type": "code",
   "execution_count": null,
   "id": "3623b9fc",
   "metadata": {},
   "outputs": [],
   "source": [
    "df.fillna(df.mean()[:])"
   ]
  },
  {
   "cell_type": "code",
   "execution_count": null,
   "id": "0e0282ec",
   "metadata": {},
   "outputs": [],
   "source": [
    "df.fillna(df.mean()[\"V1\":\"V2\"])"
   ]
  },
  {
   "cell_type": "code",
   "execution_count": null,
   "id": "279e762f",
   "metadata": {},
   "outputs": [],
   "source": [
    "df.where(pd.notna(df), df.mean(), axis = \"columns\")"
   ]
  },
  {
   "cell_type": "code",
   "execution_count": null,
   "id": "41069e23",
   "metadata": {},
   "outputs": [],
   "source": [
    "V1 = np.array([1,3,6,np.NaN,7,1,np.NaN,9,15])\n",
    "V2 = np.array([7,np.NaN,5,8,12,np.NaN,np.NaN,2,3])\n",
    "V3 = np.array([np.NaN,12,5,6,14,7,np.NaN,2,31])\n",
    "V4 = np.array([\"IT\",\"IT\",\"HR\",\"HR\",\"HR\",\"HR\",\"HR\",\"IT\",\"IT\"])\n",
    "\n",
    "df = pd.DataFrame(\n",
    "        {\"salary\" : V1,\n",
    "         \"V2\" : V2,\n",
    "         \"V3\" : V3,\n",
    "        \"department\" : V4}        \n",
    ")\n",
    "\n",
    "df"
   ]
  },
  {
   "cell_type": "code",
   "execution_count": null,
   "id": "c5476836",
   "metadata": {},
   "outputs": [],
   "source": [
    "df.groupby(\"department\")[\"salary\"].mean()"
   ]
  },
  {
   "cell_type": "code",
   "execution_count": null,
   "id": "e2b6e4c5",
   "metadata": {},
   "outputs": [],
   "source": [
    "df[\"salary\"]"
   ]
  },
  {
   "cell_type": "code",
   "execution_count": null,
   "id": "c9d9c532",
   "metadata": {},
   "outputs": [],
   "source": [
    "df[\"salary\"].fillna(df.groupby(\"department\")[\"salary\"].transform(\"mean\"))"
   ]
  },
  {
   "cell_type": "markdown",
   "id": "9c068ab1",
   "metadata": {},
   "source": [
    "### Categorical"
   ]
  },
  {
   "cell_type": "code",
   "execution_count": null,
   "id": "28e84cb2",
   "metadata": {},
   "outputs": [],
   "source": [
    "import numpy as np\n",
    "import pandas as pd\n",
    "V1 = np.array([1,3,6,np.NaN,7,1,np.NaN,9,15])\n",
    "V4 = np.array([\"IT\",np.nan,\"HR\",\"HR\",\"HR\",\"HR\",\"HR\",\"IT\",\"IT\"], dtype=object)\n",
    "\n",
    "df = pd.DataFrame(\n",
    "        {\"salary\" : V1,\n",
    "        \"department\" : V4}        \n",
    ")\n",
    "\n",
    "df"
   ]
  },
  {
   "cell_type": "code",
   "execution_count": null,
   "id": "9016cf0b",
   "metadata": {},
   "outputs": [],
   "source": [
    "df[\"department\"].mode()"
   ]
  },
  {
   "cell_type": "code",
   "execution_count": null,
   "id": "005d9cdf",
   "metadata": {},
   "outputs": [],
   "source": [
    "df[\"department\"].fillna(df[\"department\"].mode()[0])"
   ]
  },
  {
   "cell_type": "code",
   "execution_count": null,
   "id": "f1e5b75c",
   "metadata": {},
   "outputs": [],
   "source": [
    "df[\"department\"].fillna(method=\"bfill\")"
   ]
  },
  {
   "cell_type": "code",
   "execution_count": null,
   "id": "160ae9e7",
   "metadata": {},
   "outputs": [],
   "source": [
    "df[\"department\"].fillna(method=\"ffill\")"
   ]
  },
  {
   "cell_type": "markdown",
   "id": "d7e9b458",
   "metadata": {},
   "source": [
    "# Prediction-Based Imputation Methods"
   ]
  },
  {
   "cell_type": "code",
   "execution_count": null,
   "id": "cec6cf59",
   "metadata": {},
   "outputs": [],
   "source": [
    "import seaborn as sns\n",
    "import missingno as msno\n",
    "df = sns.load_dataset(\"titanic\", cache=False)\n",
    "df = df.select_dtypes(include = [\"int64\", \"float64\"])\n",
    "print(df.head())\n",
    "df.isnull().sum()"
   ]
  },
  {
   "cell_type": "code",
   "execution_count": null,
   "id": "b5ee92be",
   "metadata": {},
   "outputs": [],
   "source": [
    "!pip install ycimpute"
   ]
  },
  {
   "cell_type": "markdown",
   "id": "1ae1e6f7",
   "metadata": {},
   "source": [
    "## KNN"
   ]
  },
  {
   "cell_type": "code",
   "execution_count": null,
   "id": "0e2e7110",
   "metadata": {},
   "outputs": [],
   "source": [
    "from ycimpute.imputer import knnimput"
   ]
  },
  {
   "cell_type": "code",
   "execution_count": null,
   "id": "a82cf9b4",
   "metadata": {},
   "outputs": [],
   "source": [
    "var_names = list(df)"
   ]
  },
  {
   "cell_type": "code",
   "execution_count": null,
   "id": "0059f2c0",
   "metadata": {},
   "outputs": [],
   "source": [
    "import numpy as np\n",
    "n_df = np.array(df)"
   ]
  },
  {
   "cell_type": "code",
   "execution_count": null,
   "id": "4af1beef",
   "metadata": {},
   "outputs": [],
   "source": [
    "n_df[:10]"
   ]
  },
  {
   "cell_type": "code",
   "execution_count": null,
   "id": "bb1aa51b",
   "metadata": {},
   "outputs": [],
   "source": [
    "n_df.shape"
   ]
  },
  {
   "cell_type": "code",
   "execution_count": null,
   "id": "71d224ab",
   "metadata": {},
   "outputs": [],
   "source": [
    "dff = knnimput.KNN(k = 4).complete(n_df)"
   ]
  },
  {
   "cell_type": "code",
   "execution_count": null,
   "id": "85cb927a",
   "metadata": {},
   "outputs": [],
   "source": [
    "type(dff)"
   ]
  },
  {
   "cell_type": "code",
   "execution_count": null,
   "id": "4d5e6f45",
   "metadata": {},
   "outputs": [],
   "source": [
    "dff = pd.DataFrame(dff, columns=var_names)"
   ]
  },
  {
   "cell_type": "code",
   "execution_count": null,
   "id": "c6df6c75",
   "metadata": {},
   "outputs": [],
   "source": [
    "dff.isnull().sum()"
   ]
  },
  {
   "cell_type": "markdown",
   "id": "e305c9dc",
   "metadata": {},
   "source": [
    "### Random Forest"
   ]
  },
  {
   "cell_type": "markdown",
   "id": "9578148e",
   "metadata": {},
   "source": [
    "import seaborn as sns\n",
    "import missingno as msno\n",
    "df = sns.load_dataset(\"titanic\", cache=False)\n",
    "df = df.select_dtypes(include = [\"int64\", \"float64\"])\n",
    "df.isnull().sum()"
   ]
  },
  {
   "cell_type": "markdown",
   "id": "48b66899",
   "metadata": {},
   "source": [
    "var_names = list(df)"
   ]
  },
  {
   "cell_type": "markdown",
   "id": "8fba27b4",
   "metadata": {},
   "source": [
    "import numpy as np\n",
    "n_df = np.array(df)"
   ]
  },
  {
   "cell_type": "markdown",
   "id": "059164e0",
   "metadata": {},
   "source": [
    "from ycimpute.imputer import iterforest\n",
    "dff = iterforest.IterImput().complete(n_df)"
   ]
  },
  {
   "cell_type": "markdown",
   "id": "534a77da",
   "metadata": {},
   "source": [
    "## EM"
   ]
  },
  {
   "cell_type": "code",
   "execution_count": null,
   "id": "9a1e7ce4",
   "metadata": {},
   "outputs": [],
   "source": [
    "import seaborn as sns \n",
    "import missingno as msno \n",
    "df = sns.load_dataset(\"titanic\", cache=False) \n",
    "df = df.select_dtypes(include = [\"int64\", \"float64\"])\n",
    "df.isnull().sum()\n"
   ]
  },
  {
   "cell_type": "code",
   "execution_count": null,
   "id": "1f7a6476",
   "metadata": {},
   "outputs": [],
   "source": [
    "var_names = list(df)\n",
    "\n",
    "import numpy as np \n",
    "n_df = np.array(df)"
   ]
  },
  {
   "cell_type": "code",
   "execution_count": null,
   "id": "1369222d",
   "metadata": {},
   "outputs": [],
   "source": [
    "from ycimpute.imputer import EM"
   ]
  },
  {
   "cell_type": "code",
   "execution_count": null,
   "id": "2d7e8f68",
   "metadata": {},
   "outputs": [],
   "source": [
    "dff = EM().complete(n_df)"
   ]
  },
  {
   "cell_type": "code",
   "execution_count": null,
   "id": "0ae43c4f",
   "metadata": {},
   "outputs": [],
   "source": [
    "dff = pd.DataFrame(dff, columns=var_names)\n",
    "dff.isnull().sum()"
   ]
  },
  {
   "cell_type": "markdown",
   "id": "616fd83d",
   "metadata": {},
   "source": [
    "# Data Standardization"
   ]
  },
  {
   "cell_type": "code",
   "execution_count": null,
   "id": "2744b660",
   "metadata": {},
   "outputs": [],
   "source": [
    "import numpy as np\n",
    "import pandas as pd\n",
    "V1 = np.array([1,3,6,5,7])\n",
    "V2 = np.array([7,7,5,8,12])\n",
    "V3 = np.array([6,12,5,6,14])\n",
    "df = pd.DataFrame(\n",
    "        {\"V1\" : V1,\n",
    "         \"V2\" : V2,\n",
    "         \"V3\" : V3})\n",
    "\n",
    "df = df.astype(float)\n",
    "df"
   ]
  },
  {
   "cell_type": "markdown",
   "id": "35b9549e",
   "metadata": {},
   "source": [
    "## Standardization"
   ]
  },
  {
   "cell_type": "code",
   "execution_count": null,
   "id": "070554c9",
   "metadata": {},
   "outputs": [],
   "source": [
    "from sklearn import preprocessing"
   ]
  },
  {
   "cell_type": "code",
   "execution_count": null,
   "id": "7bf021d9",
   "metadata": {},
   "outputs": [],
   "source": [
    "preprocessing.scale(df)"
   ]
  },
  {
   "cell_type": "markdown",
   "id": "731cff06",
   "metadata": {},
   "source": [
    "## Normalization"
   ]
  },
  {
   "cell_type": "code",
   "execution_count": null,
   "id": "e540087c",
   "metadata": {},
   "outputs": [],
   "source": [
    "preprocessing.normalize(df)"
   ]
  },
  {
   "cell_type": "markdown",
   "id": "a0add0b5",
   "metadata": {},
   "source": [
    "## Binarize"
   ]
  },
  {
   "cell_type": "code",
   "execution_count": null,
   "id": "1faa4179",
   "metadata": {},
   "outputs": [],
   "source": [
    "binarizer = preprocessing.Binarizer(threshold=5).fit(df)\n",
    "binarizer.transform(df)"
   ]
  },
  {
   "cell_type": "markdown",
   "id": "b63e0cb0",
   "metadata": {},
   "source": [
    "## Min-Max"
   ]
  },
  {
   "cell_type": "code",
   "execution_count": null,
   "id": "229e82ee",
   "metadata": {},
   "outputs": [],
   "source": [
    "scaler = preprocessing.MinMaxScaler(feature_range=(10, 20))"
   ]
  },
  {
   "cell_type": "code",
   "execution_count": null,
   "id": "2ca34dcd",
   "metadata": {},
   "outputs": [],
   "source": [
    "scaler.fit_transform(df)"
   ]
  },
  {
   "cell_type": "markdown",
   "id": "045b43eb",
   "metadata": {},
   "source": [
    "# Variable Transformations"
   ]
  },
  {
   "cell_type": "code",
   "execution_count": null,
   "id": "169aac54",
   "metadata": {},
   "outputs": [],
   "source": [
    "import seaborn as sns\n",
    "df = sns.load_dataset('tips')\n",
    "df.head()"
   ]
  },
  {
   "cell_type": "markdown",
   "id": "f993df22",
   "metadata": {},
   "source": [
    "## 0-1 Transformation"
   ]
  },
  {
   "cell_type": "code",
   "execution_count": null,
   "id": "dc3b6bbc",
   "metadata": {},
   "outputs": [],
   "source": [
    "from sklearn.preprocessing import LabelEncoder\n",
    "lbe = LabelEncoder()"
   ]
  },
  {
   "cell_type": "code",
   "execution_count": null,
   "id": "0c619e40",
   "metadata": {},
   "outputs": [],
   "source": [
    "lbe.fit_transform(df[\"sex\"])"
   ]
  },
  {
   "cell_type": "code",
   "execution_count": null,
   "id": "b938b171",
   "metadata": {},
   "outputs": [],
   "source": [
    "df[\"n_sex\"] = lbe.fit_transform(df[\"sex\"])\n",
    "df"
   ]
  },
  {
   "cell_type": "markdown",
   "id": "ac3a744b",
   "metadata": {},
   "source": [
    "## 1 and Others(0) Transformation"
   ]
  },
  {
   "cell_type": "code",
   "execution_count": null,
   "id": "03a22926",
   "metadata": {},
   "outputs": [],
   "source": [
    "df[\"n_day\"] = np.where(df[\"day\"].str.contains(\"Sun\"), 1, 0)\n",
    "df"
   ]
  },
  {
   "cell_type": "code",
   "execution_count": null,
   "id": "5cd3e4a7",
   "metadata": {},
   "outputs": [],
   "source": [
    "df[\"n_day\"].value_counts()"
   ]
  },
  {
   "cell_type": "code",
   "execution_count": null,
   "id": "b9d6c3e9",
   "metadata": {},
   "outputs": [],
   "source": [
    "df[\"day\"].value_counts()"
   ]
  },
  {
   "cell_type": "markdown",
   "id": "07c90a16",
   "metadata": {},
   "source": [
    "## Multi-class Transformation"
   ]
  },
  {
   "cell_type": "code",
   "execution_count": null,
   "id": "ff658587",
   "metadata": {},
   "outputs": [],
   "source": [
    "lbe = LabelEncoder()"
   ]
  },
  {
   "cell_type": "code",
   "execution_count": null,
   "id": "0fbac996",
   "metadata": {},
   "outputs": [],
   "source": [
    "lbe.fit_transform(df[\"day\"])"
   ]
  },
  {
   "cell_type": "markdown",
   "id": "0d4a713e",
   "metadata": {},
   "source": [
    "## One-Hot Transformation and Dummy Variable"
   ]
  },
  {
   "cell_type": "code",
   "execution_count": null,
   "id": "e674d1af",
   "metadata": {},
   "outputs": [],
   "source": [
    "df.head()"
   ]
  },
  {
   "cell_type": "code",
   "execution_count": null,
   "id": "7c7beaa2",
   "metadata": {},
   "outputs": [],
   "source": [
    "df_one_hot = pd.get_dummies(df, columns= [\"sex\"], prefix = [\"sex\"])\n",
    "df_one_hot.head()"
   ]
  },
  {
   "cell_type": "code",
   "execution_count": null,
   "id": "a7c94082",
   "metadata": {
    "scrolled": true
   },
   "outputs": [],
   "source": [
    "pd.get_dummies(df, columns= [\"day\"], prefix = [\"day\"], dtype = int)"
   ]
  },
  {
   "cell_type": "markdown",
   "id": "21ea485a",
   "metadata": {},
   "source": [
    "## Converting a Continuous Variable to a Categorical Variable"
   ]
  },
  {
   "cell_type": "code",
   "execution_count": null,
   "id": "093f75c5",
   "metadata": {
    "scrolled": true
   },
   "outputs": [],
   "source": [
    "import seaborn as sns\n",
    "df = sns.load_dataset('tips')\n",
    "df.head()"
   ]
  },
  {
   "cell_type": "code",
   "execution_count": null,
   "id": "5d974eae",
   "metadata": {},
   "outputs": [],
   "source": [
    "dff = df.select_dtypes(include = [\"float64\", \"int64\"])"
   ]
  },
  {
   "cell_type": "code",
   "execution_count": null,
   "id": "398dec8f",
   "metadata": {},
   "outputs": [],
   "source": [
    "est = preprocessing.KBinsDiscretizer(n_bins=[3,2,2], encode = \"ordinal\", strategy=\"quantile\").fit(dff)"
   ]
  },
  {
   "cell_type": "code",
   "execution_count": null,
   "id": "aa56b23a",
   "metadata": {},
   "outputs": [],
   "source": [
    "est.transform(dff)[:10]"
   ]
  },
  {
   "cell_type": "markdown",
   "id": "adbdda69",
   "metadata": {},
   "source": [
    "## Index to Variable"
   ]
  },
  {
   "cell_type": "code",
   "execution_count": null,
   "id": "14c100aa",
   "metadata": {},
   "outputs": [],
   "source": [
    "df.head()"
   ]
  },
  {
   "cell_type": "code",
   "execution_count": null,
   "id": "54539121",
   "metadata": {},
   "outputs": [],
   "source": [
    "df[\"new_var\"] = df.index"
   ]
  },
  {
   "cell_type": "code",
   "execution_count": null,
   "id": "6d9ee2f6",
   "metadata": {},
   "outputs": [],
   "source": [
    "df"
   ]
  },
  {
   "cell_type": "code",
   "execution_count": null,
   "id": "5d30b40f",
   "metadata": {},
   "outputs": [],
   "source": [
    "df[\"new_var\"] = df[\"new_var\"] + 10"
   ]
  },
  {
   "cell_type": "code",
   "execution_count": null,
   "id": "be8139a2",
   "metadata": {},
   "outputs": [],
   "source": [
    "df.head()"
   ]
  },
  {
   "cell_type": "code",
   "execution_count": null,
   "id": "1e06a369",
   "metadata": {},
   "outputs": [],
   "source": [
    "df.index = df[\"new_var\"]"
   ]
  },
  {
   "cell_type": "code",
   "execution_count": null,
   "id": "f0599b56",
   "metadata": {},
   "outputs": [],
   "source": [
    "df.index"
   ]
  },
  {
   "cell_type": "code",
   "execution_count": null,
   "id": "6fb14efd",
   "metadata": {},
   "outputs": [],
   "source": [
    "df.head()"
   ]
  }
 ],
 "metadata": {
  "kernelspec": {
   "display_name": "Python 3 (ipykernel)",
   "language": "python",
   "name": "python3"
  },
  "language_info": {
   "codemirror_mode": {
    "name": "ipython",
    "version": 3
   },
   "file_extension": ".py",
   "mimetype": "text/x-python",
   "name": "python",
   "nbconvert_exporter": "python",
   "pygments_lexer": "ipython3",
   "version": "3.11.7"
  }
 },
 "nbformat": 4,
 "nbformat_minor": 5
}
