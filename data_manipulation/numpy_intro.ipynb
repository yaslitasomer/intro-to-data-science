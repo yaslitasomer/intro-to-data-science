{
 "cells": [
  {
   "cell_type": "markdown",
   "id": "666265bc-ed45-4875-81d8-2bad24f9aa78",
   "metadata": {},
   "source": [
    "# Numpy Array Attributes"
   ]
  },
  {
   "cell_type": "markdown",
   "id": "1d8b81d1-c47a-4f7b-906a-67a2e2d3b300",
   "metadata": {
    "jp-MarkdownHeadingCollapsed": true,
    "tags": []
   },
   "source": [
    "* **ndim, shape, size, dtype**"
   ]
  },
  {
   "cell_type": "code",
   "execution_count": 5,
   "id": "b8805fe7-3969-469d-9e5d-9d69023ea140",
   "metadata": {},
   "outputs": [],
   "source": [
    "import numpy as np"
   ]
  },
  {
   "cell_type": "code",
   "execution_count": 6,
   "id": "5fabe918-d874-419f-a81a-c9897fccb46f",
   "metadata": {
    "tags": []
   },
   "outputs": [
    {
     "name": "stdout",
     "output_type": "stream",
     "text": [
      "[8 7 7 6 6 9 1 1 8 8]\n"
     ]
    }
   ],
   "source": [
    "arr1 = np.random.randint(10, size = 10)\n",
    "print(arr1)"
   ]
  },
  {
   "cell_type": "code",
   "execution_count": 7,
   "id": "1a153282-10de-42ee-b84f-1ab0a17fcbe9",
   "metadata": {
    "tags": []
   },
   "outputs": [
    {
     "name": "stdout",
     "output_type": "stream",
     "text": [
      "1, (10,), 10, int32.\n"
     ]
    }
   ],
   "source": [
    "print(arr1.ndim, end = \", \")\n",
    "print(arr1.shape, end = \", \")\n",
    "print(arr1.size, end = \", \")\n",
    "print(arr1.dtype, end = \".\\n\")"
   ]
  },
  {
   "cell_type": "code",
   "execution_count": 8,
   "id": "7dc63d78-5043-49ff-906f-1b3a92fa69b6",
   "metadata": {
    "tags": []
   },
   "outputs": [
    {
     "name": "stdout",
     "output_type": "stream",
     "text": [
      "[[3 2 6 9 9]\n",
      " [7 8 7 7 6]\n",
      " [7 9 6 1 8]]\n"
     ]
    }
   ],
   "source": [
    "arr2 = np.random.randint(10, size = (3, 5))\n",
    "print(arr2)"
   ]
  },
  {
   "cell_type": "code",
   "execution_count": 9,
   "id": "7b3032bc-edfb-4918-9285-db3edb805561",
   "metadata": {},
   "outputs": [
    {
     "name": "stdout",
     "output_type": "stream",
     "text": [
      "2, (3, 5), 15, int32.\n"
     ]
    }
   ],
   "source": [
    "print(arr2.ndim, end = \", \")\n",
    "print(arr2.shape, end = \", \")\n",
    "print(arr2.size, end = \", \")\n",
    "print(arr2.dtype, end = \".\\n\")"
   ]
  },
  {
   "cell_type": "markdown",
   "id": "9b10f587",
   "metadata": {},
   "source": [
    "# Reshaping"
   ]
  },
  {
   "cell_type": "code",
   "execution_count": 10,
   "id": "1ffc07d3",
   "metadata": {},
   "outputs": [
    {
     "name": "stdout",
     "output_type": "stream",
     "text": [
      "[1 2 3 4 5 6 7 8 9]\n",
      "[[1 2 3]\n",
      " [4 5 6]\n",
      " [7 8 9]]\n"
     ]
    }
   ],
   "source": [
    "arr1 = np.arange(1, 10)\n",
    "arr2 = arr1.reshape((3, 3))\n",
    "print(arr1)\n",
    "print(arr2)"
   ]
  },
  {
   "cell_type": "code",
   "execution_count": 11,
   "id": "076fde7f",
   "metadata": {},
   "outputs": [
    {
     "name": "stdout",
     "output_type": "stream",
     "text": [
      "[1 2 3 4 5 6 7 8 9]\n",
      "[[1 2 3 4 5 6 7 8 9]]\n",
      "2\n"
     ]
    }
   ],
   "source": [
    "arr3 = arr1.reshape((1,9))\n",
    "print(arr1)\n",
    "print(arr3)\n",
    "print(arr3.ndim)"
   ]
  },
  {
   "cell_type": "markdown",
   "id": "a9f5753b",
   "metadata": {},
   "source": [
    "# Concatenation"
   ]
  },
  {
   "cell_type": "code",
   "execution_count": 12,
   "id": "012a109a",
   "metadata": {},
   "outputs": [],
   "source": [
    "arr1 = np.array([1, 2, 3])\n",
    "arr2 = np.array([4, 5, 6])\n",
    "arr3 = np.concatenate([arr1, arr2])"
   ]
  },
  {
   "cell_type": "code",
   "execution_count": 13,
   "id": "831d1ec4",
   "metadata": {},
   "outputs": [
    {
     "name": "stdout",
     "output_type": "stream",
     "text": [
      "[1 2 3 4 5 6]\n"
     ]
    }
   ],
   "source": [
    "print(arr3)"
   ]
  },
  {
   "cell_type": "code",
   "execution_count": 14,
   "id": "8490fb4d",
   "metadata": {},
   "outputs": [],
   "source": [
    "arr1 = np.array([[1, 2, 3],\n",
    "                 [4, 5, 6]])"
   ]
  },
  {
   "cell_type": "code",
   "execution_count": 15,
   "id": "c9d5b4cb",
   "metadata": {},
   "outputs": [],
   "source": [
    "arr2 = np.concatenate([arr1, arr1], axis = 0) #default axis value\n",
    "arr3 = np.concatenate([arr1, arr1], axis = 1)"
   ]
  },
  {
   "cell_type": "code",
   "execution_count": 16,
   "id": "426446a7",
   "metadata": {},
   "outputs": [
    {
     "name": "stdout",
     "output_type": "stream",
     "text": [
      "[[1 2 3]\n",
      " [4 5 6]\n",
      " [1 2 3]\n",
      " [4 5 6]]\n",
      "\n",
      "[[1 2 3 1 2 3]\n",
      " [4 5 6 4 5 6]]\n"
     ]
    }
   ],
   "source": [
    "print(arr2, end = \"\\n\\n\")\n",
    "print(arr3)"
   ]
  },
  {
   "cell_type": "markdown",
   "id": "c17e8706",
   "metadata": {},
   "source": [
    "# Splitting"
   ]
  },
  {
   "cell_type": "code",
   "execution_count": 17,
   "id": "8b05b609",
   "metadata": {},
   "outputs": [
    {
     "name": "stdout",
     "output_type": "stream",
     "text": [
      "[1 2 3] ,  [100 101] ,  [3 2 1]\n"
     ]
    }
   ],
   "source": [
    "arr1 = np.array([1, 2, 3, 100, 101, 3, 2, 1])\n",
    "arr2, arr3, arr4 = np.split(arr1, [3, 5])\n",
    "print(arr2, \", \", arr3, \", \", arr4)"
   ]
  },
  {
   "cell_type": "code",
   "execution_count": 18,
   "id": "a8b5fdb3",
   "metadata": {},
   "outputs": [
    {
     "name": "stdout",
     "output_type": "stream",
     "text": [
      "[[0 1 2]\n",
      " [3 4 5]\n",
      " [6 7 8]]\n"
     ]
    }
   ],
   "source": [
    "arr1 = np.arange(9).reshape(3, 3)\n",
    "print(arr1)"
   ]
  },
  {
   "cell_type": "code",
   "execution_count": 19,
   "id": "c973ec32",
   "metadata": {},
   "outputs": [
    {
     "name": "stdout",
     "output_type": "stream",
     "text": [
      "[[0 1 2]\n",
      " [3 4 5]] \n",
      "\n",
      " [[6 7 8]]\n"
     ]
    }
   ],
   "source": [
    "arr2, arr3 = np.vsplit(arr1, [2])\n",
    "print(arr2, \"\\n\\n\", arr3)"
   ]
  },
  {
   "cell_type": "code",
   "execution_count": 20,
   "id": "bd20ac10",
   "metadata": {},
   "outputs": [
    {
     "name": "stdout",
     "output_type": "stream",
     "text": [
      "[[0 1]\n",
      " [3 4]\n",
      " [6 7]] \n",
      "\n",
      " [[2]\n",
      " [5]\n",
      " [8]]\n"
     ]
    }
   ],
   "source": [
    "arr2, arr3 = np.hsplit(arr1, [2])\n",
    "print(arr2, \"\\n\\n\", arr3)"
   ]
  },
  {
   "cell_type": "markdown",
   "id": "2ac78bdb",
   "metadata": {},
   "source": [
    "# Sorting"
   ]
  },
  {
   "cell_type": "code",
   "execution_count": 21,
   "id": "6f648600",
   "metadata": {},
   "outputs": [
    {
     "name": "stdout",
     "output_type": "stream",
     "text": [
      "[1 2 3 4 9]\n",
      "[2 1 9 3 4]\n"
     ]
    }
   ],
   "source": [
    "arr1 = np.array([2, 1, 9, 3, 4])\n",
    "print(np.sort(arr1))\n",
    "print(arr1)"
   ]
  },
  {
   "cell_type": "code",
   "execution_count": 22,
   "id": "a77e2162",
   "metadata": {},
   "outputs": [
    {
     "name": "stdout",
     "output_type": "stream",
     "text": [
      "[2 1 9 3 4]\n",
      "[1 2 3 4 9]\n"
     ]
    }
   ],
   "source": [
    "print(arr1)\n",
    "arr1.sort()\n",
    "print(arr1)"
   ]
  },
  {
   "cell_type": "code",
   "execution_count": 23,
   "id": "1d08f614",
   "metadata": {},
   "outputs": [
    {
     "name": "stdout",
     "output_type": "stream",
     "text": [
      "[[ 5.49351994  8.34850664  9.52001139]\n",
      " [ 7.98543323  9.11198698 14.19966204]\n",
      " [12.40546705  5.5652035  13.53582154]]\n"
     ]
    }
   ],
   "source": [
    "arr1 = np.random.normal(10, 5, (3,3))\n",
    "print(arr1)"
   ]
  },
  {
   "cell_type": "code",
   "execution_count": 24,
   "id": "6a88e6a9",
   "metadata": {},
   "outputs": [
    {
     "name": "stdout",
     "output_type": "stream",
     "text": [
      "[[ 5.49351994  5.5652035   9.52001139]\n",
      " [ 7.98543323  8.34850664 13.53582154]\n",
      " [12.40546705  9.11198698 14.19966204]]\n",
      "\n",
      "[[ 5.49351994  8.34850664  9.52001139]\n",
      " [ 7.98543323  9.11198698 14.19966204]\n",
      " [ 5.5652035  12.40546705 13.53582154]]\n"
     ]
    }
   ],
   "source": [
    "print(np.sort(arr1, axis = 0), end = \"\\n\\n\")\n",
    "print(np.sort(arr1, axis = 1))"
   ]
  },
  {
   "cell_type": "markdown",
   "id": "4f7f35b7",
   "metadata": {},
   "source": [
    "# Index"
   ]
  },
  {
   "cell_type": "code",
   "execution_count": 25,
   "id": "cbf2069d",
   "metadata": {},
   "outputs": [
    {
     "name": "stdout",
     "output_type": "stream",
     "text": [
      "[3 5 0 0 8 2 9 0 0 5]\n"
     ]
    }
   ],
   "source": [
    "arr1 = np.random.randint(10, size = 10)\n",
    "print(arr1)"
   ]
  },
  {
   "cell_type": "code",
   "execution_count": 32,
   "id": "c0d70c7f",
   "metadata": {},
   "outputs": [
    {
     "name": "stdout",
     "output_type": "stream",
     "text": [
      "3, 5\n"
     ]
    }
   ],
   "source": [
    "print(arr1[0], arr1[-1], sep = \", \")"
   ]
  },
  {
   "cell_type": "code",
   "execution_count": 33,
   "id": "4e0a26e0",
   "metadata": {},
   "outputs": [
    {
     "name": "stdout",
     "output_type": "stream",
     "text": [
      "[[8 3 9 4]\n",
      " [6 0 3 0]\n",
      " [2 0 0 0]]\n"
     ]
    }
   ],
   "source": [
    "arr1 = np.random.randint(10, size = (3, 4))\n",
    "print(arr1)"
   ]
  },
  {
   "cell_type": "code",
   "execution_count": 38,
   "id": "601f838b",
   "metadata": {},
   "outputs": [
    {
     "name": "stdout",
     "output_type": "stream",
     "text": [
      "8, 0\n"
     ]
    }
   ],
   "source": [
    "print(arr1[0][0], arr1[-1][-1], sep = \", \")"
   ]
  },
  {
   "cell_type": "code",
   "execution_count": 47,
   "id": "e3924774",
   "metadata": {},
   "outputs": [
    {
     "name": "stdout",
     "output_type": "stream",
     "text": [
      "[0 2 4 6 8]\n",
      "[1 3 5 7 9]\n"
     ]
    }
   ],
   "source": [
    "arr1 = np.array([0, 1, 2, 3, 4, 5, 6, 7, 8, 9])\n",
    "print(arr1[0::2])\n",
    "print(arr1[1::2])"
   ]
  },
  {
   "cell_type": "markdown",
   "id": "8c821620",
   "metadata": {},
   "source": [
    "# Slicing"
   ]
  },
  {
   "cell_type": "code",
   "execution_count": 48,
   "id": "342a5f9d",
   "metadata": {
    "scrolled": true
   },
   "outputs": [
    {
     "name": "stdout",
     "output_type": "stream",
     "text": [
      "[[5 6 0 9 3]\n",
      " [8 6 4 4 5]\n",
      " [5 1 8 2 8]\n",
      " [7 9 5 9 8]\n",
      " [0 9 8 6 0]]\n"
     ]
    }
   ],
   "source": [
    "arr1 = np.random.randint(10, size = (5, 5))\n",
    "print(arr1)"
   ]
  },
  {
   "cell_type": "code",
   "execution_count": 50,
   "id": "c1262bdc",
   "metadata": {},
   "outputs": [
    {
     "name": "stdout",
     "output_type": "stream",
     "text": [
      "[5 8 5 7 0]\n"
     ]
    }
   ],
   "source": [
    "print(arr1[:, 0])"
   ]
  },
  {
   "cell_type": "code",
   "execution_count": 51,
   "id": "4c5f3b72",
   "metadata": {},
   "outputs": [
    {
     "name": "stdout",
     "output_type": "stream",
     "text": [
      "[0 4 8 5 8]\n"
     ]
    }
   ],
   "source": [
    "print(arr1[:, 2])"
   ]
  },
  {
   "cell_type": "code",
   "execution_count": 52,
   "id": "cdd4c2fa",
   "metadata": {},
   "outputs": [
    {
     "name": "stdout",
     "output_type": "stream",
     "text": [
      "[5 6 0 9 3]\n"
     ]
    }
   ],
   "source": [
    "print(arr1[0,:])"
   ]
  },
  {
   "cell_type": "code",
   "execution_count": 53,
   "id": "847e18c5",
   "metadata": {},
   "outputs": [
    {
     "name": "stdout",
     "output_type": "stream",
     "text": [
      "[7 9 5 9 8]\n"
     ]
    }
   ],
   "source": [
    "print(arr1[3, :])"
   ]
  },
  {
   "cell_type": "code",
   "execution_count": 59,
   "id": "a07d7f71",
   "metadata": {},
   "outputs": [
    {
     "name": "stdout",
     "output_type": "stream",
     "text": [
      "[[6 4]\n",
      " [1 8]]\n",
      "\n",
      "[[5 6 0]\n",
      " [8 6 4]]\n"
     ]
    }
   ],
   "source": [
    "print(arr1[1:3, 1:3], end = \"\\n\\n\")\n",
    "print(arr1[:2, :3])"
   ]
  },
  {
   "cell_type": "markdown",
   "id": "5b860a75",
   "metadata": {},
   "source": [
    "# Subarray"
   ]
  },
  {
   "cell_type": "code",
   "execution_count": 60,
   "id": "1c6bc16a",
   "metadata": {},
   "outputs": [
    {
     "name": "stdout",
     "output_type": "stream",
     "text": [
      "[[4 0 2 1 6]\n",
      " [3 8 3 7 6]\n",
      " [1 1 3 6 0]\n",
      " [0 0 6 3 3]\n",
      " [8 7 3 9 3]]\n"
     ]
    }
   ],
   "source": [
    "arr1 = np.random.randint(10, size = (5, 5))\n",
    "print(arr1)"
   ]
  },
  {
   "cell_type": "code",
   "execution_count": 61,
   "id": "52e58266",
   "metadata": {},
   "outputs": [
    {
     "name": "stdout",
     "output_type": "stream",
     "text": [
      "[[4 0]\n",
      " [3 8]\n",
      " [1 1]]\n"
     ]
    }
   ],
   "source": [
    "subarray = arr1[:3, :2]\n",
    "print(subarray)"
   ]
  },
  {
   "cell_type": "code",
   "execution_count": 62,
   "id": "117fed72",
   "metadata": {},
   "outputs": [
    {
     "name": "stdout",
     "output_type": "stream",
     "text": [
      "[[ 999    0]\n",
      " [   3    8]\n",
      " [8888    1]]\n"
     ]
    }
   ],
   "source": [
    "subarray[0,0] = 999\n",
    "subarray[2,0] = 8888\n",
    "print(subarray)"
   ]
  },
  {
   "cell_type": "code",
   "execution_count": 63,
   "id": "7f21bc13",
   "metadata": {},
   "outputs": [
    {
     "name": "stdout",
     "output_type": "stream",
     "text": [
      "[[ 999    0    2    1    6]\n",
      " [   3    8    3    7    6]\n",
      " [8888    1    3    6    0]\n",
      " [   0    0    6    3    3]\n",
      " [   8    7    3    9    3]]\n"
     ]
    }
   ],
   "source": [
    "print(arr1)"
   ]
  },
  {
   "cell_type": "code",
   "execution_count": 64,
   "id": "24e9280e",
   "metadata": {},
   "outputs": [
    {
     "name": "stdout",
     "output_type": "stream",
     "text": [
      "[[8 7 6 3 8]\n",
      " [4 3 1 8 1]\n",
      " [1 3 2 0 3]\n",
      " [6 7 2 5 5]\n",
      " [6 7 5 3 5]]\n"
     ]
    }
   ],
   "source": [
    "arr1 = np.random.randint(10, size = (5, 5))\n",
    "print(arr1)"
   ]
  },
  {
   "cell_type": "code",
   "execution_count": 65,
   "id": "aa2b6ec0",
   "metadata": {},
   "outputs": [
    {
     "name": "stdout",
     "output_type": "stream",
     "text": [
      "[[8 7]\n",
      " [4 3]\n",
      " [1 3]]\n"
     ]
    }
   ],
   "source": [
    "subarray = arr1[:3, :2].copy()\n",
    "print(subarray)"
   ]
  },
  {
   "cell_type": "code",
   "execution_count": 66,
   "id": "5fb22689",
   "metadata": {},
   "outputs": [
    {
     "name": "stdout",
     "output_type": "stream",
     "text": [
      "[[ 999    7]\n",
      " [   4    3]\n",
      " [8888    3]]\n"
     ]
    }
   ],
   "source": [
    "subarray[0,0] = 999\n",
    "subarray[2,0] = 8888\n",
    "print(subarray)"
   ]
  },
  {
   "cell_type": "code",
   "execution_count": 67,
   "id": "14708747",
   "metadata": {},
   "outputs": [
    {
     "name": "stdout",
     "output_type": "stream",
     "text": [
      "[[8 7 6 3 8]\n",
      " [4 3 1 8 1]\n",
      " [1 3 2 0 3]\n",
      " [6 7 2 5 5]\n",
      " [6 7 5 3 5]]\n"
     ]
    }
   ],
   "source": [
    "print(arr1)"
   ]
  },
  {
   "cell_type": "markdown",
   "id": "9d498486",
   "metadata": {},
   "source": [
    "# Fancy Index"
   ]
  },
  {
   "cell_type": "code",
   "execution_count": 72,
   "id": "1dd0edaf",
   "metadata": {},
   "outputs": [
    {
     "name": "stdout",
     "output_type": "stream",
     "text": [
      "[ 0  1  2  3  4  5  6  7  8  9 10 11 12 13 14 15 16 17 18 19]\n"
     ]
    }
   ],
   "source": [
    "arr1 = np.arange(20)\n",
    "print(arr1)"
   ]
  },
  {
   "cell_type": "code",
   "execution_count": 73,
   "id": "97eb1c10",
   "metadata": {},
   "outputs": [
    {
     "name": "stdout",
     "output_type": "stream",
     "text": [
      "[ 1 12 15 17 19]\n"
     ]
    }
   ],
   "source": [
    "indices = [1, 12, 15, 17, 19]\n",
    "print(arr1[indices])"
   ]
  },
  {
   "cell_type": "code",
   "execution_count": 74,
   "id": "e1023bbd",
   "metadata": {},
   "outputs": [
    {
     "name": "stdout",
     "output_type": "stream",
     "text": [
      "[[0 1 2]\n",
      " [3 4 5]\n",
      " [6 7 8]]\n"
     ]
    }
   ],
   "source": [
    "arr1 = np.arange(9).reshape((3,3))\n",
    "print(arr1)"
   ]
  },
  {
   "cell_type": "code",
   "execution_count": 75,
   "id": "33dd2dcc",
   "metadata": {},
   "outputs": [
    {
     "name": "stdout",
     "output_type": "stream",
     "text": [
      "[1 8]\n"
     ]
    }
   ],
   "source": [
    "row = [0, 2]\n",
    "col = [1, 2]\n",
    "print(arr1[row, col])"
   ]
  },
  {
   "cell_type": "code",
   "execution_count": 76,
   "id": "42f67e40",
   "metadata": {},
   "outputs": [
    {
     "name": "stdout",
     "output_type": "stream",
     "text": [
      "[4 5]\n"
     ]
    }
   ],
   "source": [
    "print(arr1[1, [1, 2]])"
   ]
  },
  {
   "cell_type": "code",
   "execution_count": 77,
   "id": "ef475233",
   "metadata": {},
   "outputs": [
    {
     "name": "stdout",
     "output_type": "stream",
     "text": [
      "[[4 5]\n",
      " [7 8]]\n"
     ]
    }
   ],
   "source": [
    "print(arr1[1:, [1, 2]])"
   ]
  },
  {
   "cell_type": "markdown",
   "id": "e225bb0f",
   "metadata": {},
   "source": [
    "# Item Conditions"
   ]
  },
  {
   "cell_type": "code",
   "execution_count": 78,
   "id": "66fc06cf",
   "metadata": {},
   "outputs": [
    {
     "name": "stdout",
     "output_type": "stream",
     "text": [
      "[ True  True False False False]\n"
     ]
    }
   ],
   "source": [
    "arr1 = np.array([1, 2, 3, 4, 5])\n",
    "print(arr1 < 3)"
   ]
  },
  {
   "cell_type": "code",
   "execution_count": 80,
   "id": "32e93166",
   "metadata": {},
   "outputs": [
    {
     "name": "stdout",
     "output_type": "stream",
     "text": [
      "[ True  True False False False]\n"
     ]
    }
   ],
   "source": [
    "print(arr1[arr1 < 3])"
   ]
  },
  {
   "cell_type": "code",
   "execution_count": 83,
   "id": "0a723d11",
   "metadata": {},
   "outputs": [
    {
     "name": "stdout",
     "output_type": "stream",
     "text": [
      "[4 5]\n"
     ]
    }
   ],
   "source": [
    "print(arr1[arr1 > 3])"
   ]
  },
  {
   "cell_type": "code",
   "execution_count": 82,
   "id": "19f90ccd",
   "metadata": {},
   "outputs": [
    {
     "name": "stdout",
     "output_type": "stream",
     "text": [
      "[3 4 5]\n"
     ]
    }
   ],
   "source": [
    "print(arr1[arr1 >= 3])"
   ]
  },
  {
   "cell_type": "code",
   "execution_count": 84,
   "id": "31159a41",
   "metadata": {},
   "outputs": [
    {
     "name": "stdout",
     "output_type": "stream",
     "text": [
      "[3]\n"
     ]
    }
   ],
   "source": [
    "print(arr1[arr1 == 3])"
   ]
  },
  {
   "cell_type": "code",
   "execution_count": 85,
   "id": "555ef386",
   "metadata": {},
   "outputs": [
    {
     "name": "stdout",
     "output_type": "stream",
     "text": [
      "[1 2 4 5]\n"
     ]
    }
   ],
   "source": [
    "print(arr1[arr1 != 3])"
   ]
  },
  {
   "cell_type": "code",
   "execution_count": 87,
   "id": "b3141319",
   "metadata": {},
   "outputs": [
    {
     "name": "stdout",
     "output_type": "stream",
     "text": [
      "[ 1  4  9 16 25]\n"
     ]
    }
   ],
   "source": [
    "print(arr1**2)"
   ]
  },
  {
   "cell_type": "markdown",
   "id": "2b8ade34",
   "metadata": {},
   "source": [
    "# ufunc"
   ]
  },
  {
   "cell_type": "code",
   "execution_count": 88,
   "id": "a91d81a9",
   "metadata": {},
   "outputs": [
    {
     "name": "stdout",
     "output_type": "stream",
     "text": [
      "[1 0 1 0 1]\n",
      "[1 0 1 0 1]\n"
     ]
    }
   ],
   "source": [
    "print(arr1 % 2)\n",
    "print(np.mod(arr1, 2))"
   ]
  },
  {
   "cell_type": "code",
   "execution_count": 90,
   "id": "e6676bde",
   "metadata": {},
   "outputs": [
    {
     "name": "stdout",
     "output_type": "stream",
     "text": [
      "[0.         0.69314718 1.09861229 1.38629436 1.60943791]\n"
     ]
    }
   ],
   "source": [
    "print(np.log(arr1))"
   ]
  },
  {
   "cell_type": "code",
   "execution_count": 92,
   "id": "c50b1283",
   "metadata": {},
   "outputs": [
    {
     "name": "stdout",
     "output_type": "stream",
     "text": [
      "[0.         1.         1.5849625  2.         2.32192809]\n"
     ]
    }
   ],
   "source": [
    "print(np.log2(arr1))"
   ]
  },
  {
   "cell_type": "code",
   "execution_count": 93,
   "id": "f6596c84",
   "metadata": {
    "scrolled": true
   },
   "outputs": [
    {
     "name": "stdout",
     "output_type": "stream",
     "text": [
      "[0.         0.30103    0.47712125 0.60205999 0.69897   ]\n"
     ]
    }
   ],
   "source": [
    "print(np.log10(arr1))"
   ]
  },
  {
   "cell_type": "markdown",
   "id": "077eef8c",
   "metadata": {},
   "source": [
    "**5x0 + x1 = 12**  \n",
    "**x0 + 3x1 = 10**"
   ]
  },
  {
   "cell_type": "code",
   "execution_count": 96,
   "id": "42d14275",
   "metadata": {},
   "outputs": [],
   "source": [
    "arr1 = np.array([[5, 1], [1, 3]])\n",
    "arr2 = np.array([12, 10])"
   ]
  },
  {
   "cell_type": "code",
   "execution_count": 98,
   "id": "fcf083fa",
   "metadata": {},
   "outputs": [
    {
     "name": "stdout",
     "output_type": "stream",
     "text": [
      "[1.85714286 2.71428571]\n"
     ]
    }
   ],
   "source": [
    "x = np.linalg.solve(arr1, arr2)\n",
    "print(x)"
   ]
  }
 ],
 "metadata": {
  "kernelspec": {
   "display_name": "Python 3 (ipykernel)",
   "language": "python",
   "name": "python3"
  },
  "language_info": {
   "codemirror_mode": {
    "name": "ipython",
    "version": 3
   },
   "file_extension": ".py",
   "mimetype": "text/x-python",
   "name": "python",
   "nbconvert_exporter": "python",
   "pygments_lexer": "ipython3",
   "version": "3.11.5"
  }
 },
 "nbformat": 4,
 "nbformat_minor": 5
}
